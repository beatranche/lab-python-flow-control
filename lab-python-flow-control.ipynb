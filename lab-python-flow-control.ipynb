{
 "cells": [
  {
   "cell_type": "markdown",
   "id": "d3bfc191-8885-42ee-b0a0-bbab867c6f9f",
   "metadata": {
    "tags": []
   },
   "source": [
    "# Lab | Flow Control"
   ]
  },
  {
   "cell_type": "markdown",
   "id": "3851fcd1-cf98-4653-9c89-e003b7ec9400",
   "metadata": {},
   "source": [
    "## Exercise: Managing Customer Orders Optimized\n",
    "\n",
    "In the last lab, you were starting an online store that sells various products. To ensure smooth operations, you developed a program that manages customer orders and inventory.\n",
    "\n",
    "You did so without using flow control. Let's go a step further and improve this code.\n",
    "\n",
    "Follow the steps below to complete the exercise:\n",
    "\n",
    "1. Look at your code from the lab data structures, and improve repeated code with loops.\n",
    "\n",
    "2. Instead of asking the user to input the name of three products that a customer wants to order, do the following:\n",
    "    \n",
    "    a. Prompt the user to enter the name of a product that a customer wants to order.\n",
    "    \n",
    "    b. Add the product name to the \"customer_orders\" set.\n",
    "    \n",
    "    c. Ask the user if they want to add another product (yes/no).\n",
    "    \n",
    "    d. Continue the loop until the user does not want to add another product.\n",
    "\n",
    "3. Instead of updating the inventory by subtracting 1 from the quantity of each product, only do it for  the products that were ordered (those in \"customer_orders\")."
   ]
  },
  {
   "cell_type": "code",
   "execution_count": 1,
   "id": "c9483d20",
   "metadata": {},
   "outputs": [
    {
     "ename": "ValueError",
     "evalue": "invalid literal for int() with base 10: ''",
     "output_type": "error",
     "traceback": [
      "\u001b[1;31m---------------------------------------------------------------------------\u001b[0m",
      "\u001b[1;31mValueError\u001b[0m                                Traceback (most recent call last)",
      "Cell \u001b[1;32mIn[1], line 9\u001b[0m\n\u001b[0;32m      7\u001b[0m \u001b[38;5;66;03m# 3. Ask the user to input the quantity of each product available in the inventory. Use the product names from the `products` list as keys in the `inventory` dictionary and assign the respective quantities as values.\u001b[39;00m\n\u001b[0;32m      8\u001b[0m \u001b[38;5;28;01mfor\u001b[39;00m product \u001b[38;5;129;01min\u001b[39;00m products:\n\u001b[1;32m----> 9\u001b[0m     quantity \u001b[38;5;241m=\u001b[39m \u001b[38;5;28mint\u001b[39m(\u001b[38;5;28minput\u001b[39m(\u001b[38;5;124mf\u001b[39m\u001b[38;5;124m\"\u001b[39m\u001b[38;5;124mEnter the quantity of : \u001b[39m\u001b[38;5;124m\"\u001b[39m \u001b[38;5;241m+\u001b[39m product))\n\u001b[0;32m     10\u001b[0m     inventory[product] \u001b[38;5;241m=\u001b[39m quantity\n\u001b[0;32m     12\u001b[0m \u001b[38;5;28mprint\u001b[39m(inventory)\n",
      "\u001b[1;31mValueError\u001b[0m: invalid literal for int() with base 10: ''"
     ]
    }
   ],
   "source": [
    "# 1. Define a list called `products` that contains the following items\n",
    "products = [\"t-shirt\", \"mug\", \"hat\", \"book\", \"keychain\"]\n",
    "\n",
    "# 2. Create an empty dictionary called `inventory`\n",
    "inventory = {}\n",
    "\n",
    "# 3. Ask the user to input the quantity of each product available in the inventory.\n",
    "for product in products:\n",
    "    quantity = int(input(f\"Enter the quantity of {product}: \"))\n",
    "    inventory[product] = quantity\n",
    "\n",
    "# Print the initial inventory\n",
    "print(\"Initial Inventory:\", inventory)\n",
    "\n",
    "# 4. Create an empty set called `customer_orders`\n",
    "customer_orders = set()\n",
    "\n",
    "# 5. Prompt the user to enter the name of a product that a customer wants to order\n",
    "while True:\n",
    "    product = input(f\"Enter the product you want to order ({', '.join(products)}): \").lower().strip()\n",
    "    \n",
    "    # Check if the product is in the available products list\n",
    "    if product in products:\n",
    "        customer_orders.add(product)\n",
    "        print(f\"{product.capitalize()} added to your order.\")\n",
    "    else:\n",
    "        print(\"Invalid product name. Please choose from the available products.\")\n",
    "    \n",
    "    # Ask the user if they want to add another product\n",
    "    add_more = input(\"Do you want to add more products? (yes/no): \").lower().strip()\n",
    "    \n",
    "    # If the user does not want to add more products, exit the loop\n",
    "    if add_more == \"no\":\n",
    "        break\n",
    "\n",
    "# 6. Print the products in the `customer_orders` set.\n",
    "print(\"Products ordered:\", \", \".join(customer_orders))\n",
    "\n",
    "# 7. Calculate order statistics:\n",
    "# - Total Products Ordered\n",
    "# - Percentage of Products Ordered\n",
    "\n",
    "total_products_ordered = len(customer_orders)\n",
    "percentage_ordered = (total_products_ordered / len(products)) * 100\n",
    "\n",
    "# 8. Print the order statistics\n",
    "print(\"\\nOrder Statistics:\")\n",
    "print(f\"Total Products Ordered: {total_products_ordered}\")\n",
    "print(f\"Percentage of Products Ordered: {percentage_ordered:.2f}%\")\n",
    "\n",
    "# 9. Update the inventory by subtracting 1 from the quantity of each product ordered\n",
    "for product in customer_orders:\n",
    "    if inventory[product] > 0:\n",
    "        inventory[product] -= 1\n",
    "\n",
    "# 10. Print the updated inventory\n",
    "print(\"\\nUpdated Inventory:\")\n",
    "for product, quantity in inventory.items():\n",
    "    print(f\"{product}: {quantity}\")"
   ]
  }
 ],
 "metadata": {
  "kernelspec": {
   "display_name": "Python 3 (ipykernel)",
   "language": "python",
   "name": "python3"
  },
  "language_info": {
   "codemirror_mode": {
    "name": "ipython",
    "version": 3
   },
   "file_extension": ".py",
   "mimetype": "text/x-python",
   "name": "python",
   "nbconvert_exporter": "python",
   "pygments_lexer": "ipython3",
   "version": "3.12.4"
  }
 },
 "nbformat": 4,
 "nbformat_minor": 5
}
